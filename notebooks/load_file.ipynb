{
 "cells": [
  {
   "cell_type": "code",
   "execution_count": 43,
   "metadata": {
    "collapsed": true
   },
   "outputs": [],
   "source": [
    "import pickle as pkl\n",
    "from WebQA.core.QA_Page import QA_Page\n",
    "from WebQA.pages.Medhelp import MedhelpPage\n",
    "from WebQA.pages.Healthtap import HealthtapPage\n",
    "from WebQA.core.Post import Post, Question, Answer\n",
    "from WebQA.core.User import User\n",
    "import pandas as pd\n",
    "import sys\n",
    "import os"
   ]
  },
  {
   "cell_type": "code",
   "execution_count": 44,
   "metadata": {
    "collapsed": true
   },
   "outputs": [],
   "source": [
    "HOME = os.path.expanduser(\"~\")\n",
    "DATA = HOME + \"/data_buffer/WebQA/\"\n",
    "# in this preprocessing, I chose to use this seperator to seperate\n",
    "# different answers to the same question.\n",
    "SEPERATOR = \"@@@@\"\n",
    "\n",
    "import unicodedata\n",
    "import string\n",
    "import re\n",
    "\n",
    "\n",
    "def unicode_to_ascii(s):\n",
    "    return ''.join(\n",
    "        c for c in unicodedata.normalize('NFD', s)\n",
    "        if unicodedata.category(c) != 'Mn'\n",
    "    )\n",
    "\n",
    "\n",
    "# Lowercase, trim, and remove non-letter characters\n",
    "def normalize_string(s):\n",
    "    s = unicode_to_ascii(s.lower().strip())\n",
    "    s = ' '.join(s.split())\n",
    "    s = re.sub(r\"([.!?])\", r\" \\1\", s)\n",
    "    s = re.sub(r\"[^a-zA-Z.!?]+\", r\" \", s)\n",
    "    return s"
   ]
  },
  {
   "cell_type": "code",
   "execution_count": 45,
   "metadata": {
    "collapsed": true
   },
   "outputs": [],
   "source": [
    "def turn_to_pairs(filename: str = None):\n",
    "    def question_filter(answer):\n",
    "        if answer.user and answer.user.isMedical:\n",
    "             return answer.text\n",
    "        return \"\"\n",
    "    \n",
    "    with open(DATA + filename, \"rb\") as f:\n",
    "        pages = pd.read_pickle(f)\n",
    "    questions = []\n",
    "    answers = []\n",
    "    for page in pages:\n",
    "        if page and page.question != \"\":\n",
    "            #page.print()\n",
    "            medical_answers = [question_filter(answer) for answer in page.answers]\n",
    "            if medical_answers:\n",
    "                questions.append(normalize_string(page.question.text))\n",
    "                answers.append([normalize_string(answer) \\\n",
    "                                        for answer in medical_answers])\n",
    "            else:\n",
    "                continue\n",
    "                \n",
    "    training_pairs = []\n",
    "    for i in range(len(answers)):\n",
    "        training_pairs = [questions[i]  + \"\\t\" + answer for answer in answers[i] if answer != \"\"]\n",
    "    return training_pairs"
   ]
  },
  {
   "cell_type": "code",
   "execution_count": 46,
   "metadata": {
    "collapsed": true
   },
   "outputs": [],
   "source": [
    "def create_tsv(filename: str = None, content: list = None):\n",
    "    with open(filename, \"w\") as record_file:\n",
    "        for item in content:\n",
    "            record_file.write(\"%s\\n\" % item)"
   ]
  },
  {
   "cell_type": "code",
   "execution_count": null,
   "metadata": {},
   "outputs": [],
   "source": [
    "training_pairsQA = turn_to_pairs(\"qa.pkl\")\n",
    "training_pairsHealth = turn_to_pairs(\"healthtap.pkl\")"
   ]
  },
  {
   "cell_type": "code",
   "execution_count": 48,
   "metadata": {},
   "outputs": [
    {
     "data": {
      "text/plain": [
       "[]"
      ]
     },
     "execution_count": 48,
     "metadata": {},
     "output_type": "execute_result"
    }
   ],
   "source": [
    "training_pairsHealth[:3]\n",
    "training_pairsQA[:3]"
   ]
  },
  {
   "cell_type": "code",
   "execution_count": null,
   "metadata": {
    "collapsed": true
   },
   "outputs": [],
   "source": []
  },
  {
   "cell_type": "code",
   "execution_count": null,
   "metadata": {
    "collapsed": true
   },
   "outputs": [],
   "source": []
  },
  {
   "cell_type": "code",
   "execution_count": 101,
   "metadata": {
    "collapsed": true
   },
   "outputs": [],
   "source": [
    "\n",
    "create_tsv('QA_dataset.tsv', training_pairsQA)\n",
    "create_tsv('Health_dataset.tsv', training_pairsHealth)"
   ]
  },
  {
   "cell_type": "code",
   "execution_count": 70,
   "metadata": {
    "collapsed": true
   },
   "outputs": [],
   "source": [
    "s = \"\"\"\n",
    "        @@@@With these features I could offer a clinical diagnosis of crohn's disease with ho of anal fissure,weight loss and joint pains. Cheers.\tHi, my boyfriend of seven years has an undiagnosed chronic joint pain condition. He is 25 years old. To start off with a little bit of history, he has had this as long as he can remember. When he was young, people just told him it was âgrowing painsâ. I canât go into too much detail about other symptoms, but should say he was infected with meningitis around the age of 11-12 and was hospitalized for a while. His momâs side is relatively healthy. His dad was diagnosed with breast and testicular cancer in his 20s and was diagnosed with advanced prostate cancer a couple of years ago. His paternal uncle has Crohnâs disease and diabetes. His nephew (3 years old) has some sort of undiagnosed condition. When I first met him, his joint pain was only related to weather (changes in pressure/cold weather) and did not affect his life too much. It was isolated to his knee joints. Over the past few years, there have been various other health issues that have come up, and have become increasingly worse and more alarming as times goes by. A few years ago he was diagnosed with an anal fissure which has since healed. Following this, he lost about 40lbs in the matter of months and started to look more sickly and pale. He sweats excessively at night to the point where he wakes up and the sheets are soaked. He has frequent headaches and bouts of nausea and vomiting more than a person should. His lungs are also phlegm and wheezy. His joint pain is getting so bad that he is almost debilitated and is getting to the point where almost every day is a bad day. The pain is also spreading to his wrists and elbows. The joints are not warm and do not swell or turn red. He has seen a rheumatologist and had blood tests and x-rays which came out clean. His blood tests showed âmarkersâ for arthritis but nothing conclusive. They did not look into it further and assumed he was lying or was looking for painkillers. He is starting to think he is crazy because no one believes him and is really depressed because this is basically ruining his life. He can barely do day to day activities. Please, does anyone know what this could be?\n",
    "\"\"\""
   ]
  },
  {
   "cell_type": "code",
   "execution_count": 5,
   "metadata": {
    "collapsed": true
   },
   "outputs": [],
   "source": [
    "objects = []\n",
    "with open(DATA + \"qa.pkl\", \"rb\") as f:\n",
    "    pages = pd.read_pickle(f)"
   ]
  },
  {
   "cell_type": "code",
   "execution_count": 7,
   "metadata": {},
   "outputs": [
    {
     "name": "stdout",
     "output_type": "stream",
     "text": [
      "[None, None]\n"
     ]
    }
   ],
   "source": [
    "print(pages[:2])"
   ]
  },
  {
   "cell_type": "code",
   "execution_count": 73,
   "metadata": {
    "collapsed": true
   },
   "outputs": [],
   "source": []
  },
  {
   "cell_type": "code",
   "execution_count": null,
   "metadata": {
    "collapsed": true
   },
   "outputs": [],
   "source": []
  }
 ],
 "metadata": {
  "kernelspec": {
   "display_name": "Python 3",
   "language": "python",
   "name": "python3"
  },
  "language_info": {
   "codemirror_mode": {
    "name": "ipython",
    "version": 3
   },
   "file_extension": ".py",
   "mimetype": "text/x-python",
   "name": "python",
   "nbconvert_exporter": "python",
   "pygments_lexer": "ipython3",
   "version": "3.6.2"
  }
 },
 "nbformat": 4,
 "nbformat_minor": 2
}
