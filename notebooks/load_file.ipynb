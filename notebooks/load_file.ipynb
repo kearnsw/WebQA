{
 "cells": [
  {
   "cell_type": "code",
   "execution_count": 75,
   "metadata": {
    "collapsed": true
   },
   "outputs": [],
   "source": [
    "import pickle as pkl\n",
    "from WebQA.core.QA_Page import QA_Page\n",
    "from WebQA.pages.Medhelp import MedhelpPage\n",
    "from WebQA.pages.Healthtap import HealthtapPage\n",
    "from WebQA.core.Post import Post, Question, Answer\n",
    "from WebQA.core.User import User\n",
    "import pandas as pd\n",
    "import sys\n",
    "import os"
   ]
  },
  {
   "cell_type": "code",
   "execution_count": 76,
   "metadata": {
    "collapsed": true
   },
   "outputs": [],
   "source": [
    "HOME = os.path.expanduser(\"~\")\n",
    "DATA = HOME + \"/data_buffer/WebQA/\"\n",
    "\n",
    "import unicodedata\n",
    "import string\n",
    "import re\n",
    "\n",
    "\n",
    "def unicode_to_ascii(s):\n",
    "    return ''.join(\n",
    "        c for c in unicodedata.normalize('NFD', s)\n",
    "        if unicodedata.category(c) != 'Mn'\n",
    "    )\n",
    "\n",
    "\n",
    "# Lowercase, trim, and remove non-letter characters\n",
    "def normalize_string(s):\n",
    "    s = unicode_to_ascii(s.lower().strip())\n",
    "    s = re.sub(r\"([›.!?])\", r\" \\1\", s)\n",
    "    s = re.sub(r\"[^a-zA-Z.!?]+\", r\" \", s)\n",
    "    s = ' '.join(s.split())\n",
    "    return s"
   ]
  },
  {
   "cell_type": "code",
   "execution_count": 77,
   "metadata": {
    "collapsed": true
   },
   "outputs": [],
   "source": [
    "def turn_to_pairs_qa():\n",
    "    \n",
    "    with open(DATA + \"qa.pkl\", \"rb\") as f:\n",
    "        pages = pd.read_pickle(f)\n",
    "    instances = []\n",
    "    for page in pages:\n",
    "        if page and page.question != \"\":\n",
    "            \n",
    "            answers = []\n",
    "            for answer in page.answers:\n",
    "                if answer is not None and answer.user is not None and answer.user.isMedical: # only take professional's answer\n",
    "                    answers.append(normalize_string(answer.text))\n",
    "            \n",
    "            if len(answers) > 0:\n",
    "                instances.append([normalize_string(page.question.text), answers])\n",
    "                \n",
    "                \n",
    "    training_pairs = []\n",
    "    for instance in instances:\n",
    "        question = instance[0]\n",
    "        answers = instance[1]\n",
    "        for answer in answers:\n",
    "            if answer != \"\" and len(question.split('\\t')) == 1 and len(answer.split('\\t')) == 1:\n",
    "                training_pairs.append(question  + \"\\t\" + answer)\n",
    "    return training_pairs"
   ]
  },
  {
   "cell_type": "code",
   "execution_count": 78,
   "metadata": {
    "collapsed": true
   },
   "outputs": [],
   "source": [
    "def turn_to_pairs_health():\n",
    "    with open(DATA + \"healthtap.pkl\", \"rb\") as f:\n",
    "        pages = pd.read_pickle(f)\n",
    "    instances = []\n",
    "    for page in pages:\n",
    "        if page and page.question != \"\":\n",
    "            \n",
    "            answers = []\n",
    "            for answer in page.answers:\n",
    "                if answer is not None and answer.text != \"\": # only take professional's answer\n",
    "                    answers.append(normalize_string(answer.text))\n",
    "            \n",
    "            if len(answers) > 0:\n",
    "                instances.append([normalize_string(page.question.text), answers])\n",
    "                \n",
    "                \n",
    "    training_pairs = []\n",
    "    for instance in instances:\n",
    "        question = instance[0]\n",
    "        answers = instance[1]\n",
    "        for answer in answers:\n",
    "            if answer != \"\" and len(question.split('\\t')) == 1 and len(answer.split('\\t')) == 1:\n",
    "                training_pairs.append(question  + \"\\t\" + answer)\n",
    "    return training_pairs"
   ]
  },
  {
   "cell_type": "code",
   "execution_count": 79,
   "metadata": {
    "collapsed": true
   },
   "outputs": [],
   "source": [
    "def create_tsv(filename: str = None, content: list = None):\n",
    "    with open(filename, \"w\") as record_file:\n",
    "        for item in content:\n",
    "            record_file.write(\"%s\\n\" % item)"
   ]
  },
  {
   "cell_type": "code",
   "execution_count": 80,
   "metadata": {
    "collapsed": true
   },
   "outputs": [],
   "source": [
    "training_pairsQA = turn_to_pairs_qa()\n",
    "training_pairsHealth = turn_to_pairs_health()"
   ]
  },
  {
   "cell_type": "code",
   "execution_count": 81,
   "metadata": {
    "collapsed": true
   },
   "outputs": [],
   "source": [
    "training_pairsQA.sort(key=len)\n",
    "training_pairsHealth.sort(key=len)"
   ]
  },
  {
   "cell_type": "code",
   "execution_count": 82,
   "metadata": {
    "collapsed": true
   },
   "outputs": [],
   "source": [
    "create_tsv('QA_dataset.tsv', training_pairsQA)\n",
    "create_tsv('Health_dataset.tsv', training_pairsHealth)"
   ]
  },
  {
   "cell_type": "code",
   "execution_count": null,
   "metadata": {
    "collapsed": true
   },
   "outputs": [],
   "source": []
  },
  {
   "cell_type": "code",
   "execution_count": 73,
   "metadata": {
    "collapsed": true
   },
   "outputs": [],
   "source": []
  },
  {
   "cell_type": "code",
   "execution_count": 47,
   "metadata": {
    "collapsed": true
   },
   "outputs": [],
   "source": []
  },
  {
   "cell_type": "code",
   "execution_count": 74,
   "metadata": {},
   "outputs": [
    {
     "data": {
      "text/plain": [
       "50"
      ]
     },
     "execution_count": 74,
     "metadata": {},
     "output_type": "execute_result"
    }
   ],
   "source": [
    "len(s.split())"
   ]
  },
  {
   "cell_type": "code",
   "execution_count": null,
   "metadata": {
    "collapsed": true
   },
   "outputs": [],
   "source": []
  },
  {
   "cell_type": "code",
   "execution_count": null,
   "metadata": {
    "collapsed": true
   },
   "outputs": [],
   "source": []
  },
  {
   "cell_type": "code",
   "execution_count": null,
   "metadata": {
    "collapsed": true
   },
   "outputs": [],
   "source": []
  },
  {
   "cell_type": "code",
   "execution_count": null,
   "metadata": {
    "collapsed": true
   },
   "outputs": [],
   "source": []
  },
  {
   "cell_type": "code",
   "execution_count": null,
   "metadata": {
    "collapsed": true
   },
   "outputs": [],
   "source": []
  },
  {
   "cell_type": "code",
   "execution_count": 5,
   "metadata": {},
   "outputs": [
    {
     "data": {
      "text/plain": [
       "'my three years old has had a normal type of day she laid down for her afternoon nap and woke with a fever . abdominal pain as described by child her tummy hurts and she has vomited twice in an hours time . after vomiting she feels better but her fever is still present . on friday she had received two standard booster shots and the influenza nasal treatment all given by her dr . am i just looking at a bug or should there be more concern ? hello your daughter could be having a reaction to the influenza treatment after all they give you a little of the disease to help build immunity to it . monitor her tonight and if she is not better tomorrow or worse then get her back into the doctor it is better to be safe than sorry . susie'"
      ]
     },
     "execution_count": 5,
     "metadata": {},
     "output_type": "execute_result"
    }
   ],
   "source": []
  },
  {
   "cell_type": "code",
   "execution_count": 26,
   "metadata": {
    "collapsed": true
   },
   "outputs": [],
   "source": [
    "f = open(DATA + 'Health_dataset.tsv', 'r').readlines()"
   ]
  },
  {
   "cell_type": "code",
   "execution_count": 35,
   "metadata": {
    "collapsed": true
   },
   "outputs": [],
   "source": [
    "lines = [item[:item.find('dr.')] for item in f]\n",
    "\n",
    "with open(DATA + 'Health_dataset.tsv', \"w\") as record_file:\n",
    "        for item in lines:\n",
    "            record_file.write(\"%s\\n\" % item)\n",
    "\n"
   ]
  },
  {
   "cell_type": "code",
   "execution_count": 32,
   "metadata": {},
   "outputs": [
    {
     "data": {
      "text/plain": [
       "['does', 'drug', 'therapy', 'work', 'for', 'anxiety', 'disorders', '?']"
      ]
     },
     "execution_count": 32,
     "metadata": {},
     "output_type": "execute_result"
    }
   ],
   "source": []
  },
  {
   "cell_type": "code",
   "execution_count": 33,
   "metadata": {},
   "outputs": [
    {
     "data": {
      "text/plain": [
       "['in',\n",
       " 'brief',\n",
       " 'yes',\n",
       " 'both',\n",
       " 'psychotherapy',\n",
       " 'and',\n",
       " 'medications',\n",
       " 'can',\n",
       " 'help',\n",
       " 'people',\n",
       " 'with',\n",
       " 'anxiety',\n",
       " 'disorders.',\n",
       " 'some',\n",
       " 'people',\n",
       " 'benefit',\n",
       " 'from',\n",
       " 'one',\n",
       " 'or',\n",
       " 'both',\n",
       " 'of',\n",
       " 'these',\n",
       " 'types',\n",
       " 'of',\n",
       " 'treatment',\n",
       " 'more',\n",
       " 'than',\n",
       " 'the',\n",
       " 'other.',\n",
       " 'anxiety',\n",
       " 'disorders',\n",
       " 'tend',\n",
       " 'to',\n",
       " 'be',\n",
       " 'fairly',\n",
       " 'chronic',\n",
       " 'for',\n",
       " 'many',\n",
       " 'people',\n",
       " 'and',\n",
       " 'so',\n",
       " 'it',\n",
       " 'is',\n",
       " 'important',\n",
       " 'to',\n",
       " 'look',\n",
       " 'for',\n",
       " 'long',\n",
       " 'term',\n",
       " 'solutions.',\n",
       " 'in',\n",
       " 'brief',\n",
       " 'yes',\n",
       " 'both',\n",
       " 'psychotherapy',\n",
       " 'and',\n",
       " 'medications',\n",
       " 'can',\n",
       " 'help',\n",
       " 'people',\n",
       " 'with',\n",
       " 'anxiety',\n",
       " 'disorders.',\n",
       " 'some',\n",
       " 'people',\n",
       " 'benefit',\n",
       " 'from',\n",
       " 'one',\n",
       " 'or',\n",
       " 'both',\n",
       " 'of',\n",
       " 'these',\n",
       " 'types',\n",
       " 'of',\n",
       " 'treatment',\n",
       " 'more',\n",
       " 'than',\n",
       " 'the',\n",
       " 'other.',\n",
       " 'anxiety',\n",
       " 'disorders',\n",
       " 'tend',\n",
       " 'to',\n",
       " 'be',\n",
       " 'fairly',\n",
       " 'chronic',\n",
       " 'for',\n",
       " 'many',\n",
       " 'people',\n",
       " 'and',\n",
       " 'so',\n",
       " 'it',\n",
       " 'is',\n",
       " 'important',\n",
       " 'to',\n",
       " 'look',\n",
       " 'for',\n",
       " 'long',\n",
       " 'term',\n",
       " 'solutions.',\n",
       " 'would',\n",
       " 'you',\n",
       " 'like',\n",
       " 'to',\n",
       " 'video',\n",
       " 'or',\n",
       " 'text',\n",
       " 'chat',\n",
       " 'with',\n",
       " 'me',\n",
       " '?']"
      ]
     },
     "execution_count": 33,
     "metadata": {},
     "output_type": "execute_result"
    }
   ],
   "source": [
    "lines[0].split('\\t')[1].split()"
   ]
  },
  {
   "cell_type": "code",
   "execution_count": null,
   "metadata": {
    "collapsed": true
   },
   "outputs": [],
   "source": [
    "for line in lines:\n",
    "    pair = line.split('\\t')\n",
    "    question = "
   ]
  },
  {
   "cell_type": "code",
   "execution_count": null,
   "metadata": {
    "collapsed": true
   },
   "outputs": [],
   "source": []
  },
  {
   "cell_type": "code",
   "execution_count": null,
   "metadata": {
    "collapsed": true
   },
   "outputs": [],
   "source": []
  },
  {
   "cell_type": "code",
   "execution_count": null,
   "metadata": {
    "collapsed": true
   },
   "outputs": [],
   "source": []
  },
  {
   "cell_type": "code",
   "execution_count": null,
   "metadata": {
    "collapsed": true
   },
   "outputs": [],
   "source": []
  },
  {
   "cell_type": "code",
   "execution_count": null,
   "metadata": {
    "collapsed": true
   },
   "outputs": [],
   "source": []
  },
  {
   "cell_type": "code",
   "execution_count": null,
   "metadata": {
    "collapsed": true
   },
   "outputs": [],
   "source": []
  }
 ],
 "metadata": {
  "kernelspec": {
   "display_name": "Python 3",
   "language": "python",
   "name": "python3"
  },
  "language_info": {
   "codemirror_mode": {
    "name": "ipython",
    "version": 3
   },
   "file_extension": ".py",
   "mimetype": "text/x-python",
   "name": "python",
   "nbconvert_exporter": "python",
   "pygments_lexer": "ipython3",
   "version": "3.6.2"
  }
 },
 "nbformat": 4,
 "nbformat_minor": 2
}
