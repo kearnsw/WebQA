{
 "cells": [
  {
   "cell_type": "code",
   "execution_count": 126,
   "metadata": {
    "collapsed": true
   },
   "outputs": [],
   "source": [
    "from allennlp.data.tokenizers import Token, Tokenizer, WordTokenizer\n",
    "from allennlp.modules.text_field_embedders import BasicTextFieldEmbedder\n",
    "from allennlp.data.token_indexers import TokenIndexer, SingleIdTokenIndexer\n",
    "from allennlp.data import Vocabulary \n",
    "from allennlp.data.dataset import Dataset\n",
    "from allennlp.models.encoder_decoders.simple_seq2seq import SimpleSeq2Seq\n",
    "from allennlp.data.dataset_readers.seq2seq import Seq2SeqDatasetReader\n",
    "from allennlp.modules import Attention, TextFieldEmbedder, Seq2SeqEncoder\n",
    "from allennlp.modules.seq2seq_encoders.intra_sentence_attention import IntraSentenceAttentionEncoder\n",
    "from allennlp.modules.token_embedders import Embedding\n",
    "import os"
   ]
  },
  {
   "cell_type": "code",
   "execution_count": 90,
   "metadata": {},
   "outputs": [],
   "source": [
    "HOME = os.path.expanduser(\"~\")\n",
    "DATA = HOME + \"/data_buffer/WebQA/\"\n",
    "DEMO = DATA + 'demo.tsv'\n",
    "EMBED_DIM = 300"
   ]
  },
  {
   "cell_type": "code",
   "execution_count": 91,
   "metadata": {},
   "outputs": [],
   "source": [
    "def config(path_to_file):\n",
    "    seq2seq_reader = Seq2SeqDatasetReader(source_tokenizer=WordTokenizer(),\n",
    "                                     target_tokenizer=WordTokenizer(),\n",
    "                                     source_token_indexers={'source_tokens':SingleIdTokenIndexer()},\n",
    "                                     target_token_indexers={'target_tokens':SingleIdTokenIndexer()})\n",
    "\n",
    "    dataset = seq2seq_reader.read(path_to_file)\n",
    "    vocabs = Vocabulary.from_dataset(dataset)\n",
    "\n",
    "    dataset.index_instances(vocabs)\n",
    "\n",
    "    padding_lengths = dataset.get_padding_lengths()\n",
    "\n",
    "    #array_dict = dataset.as_array_dict(padding_lengths, verbose=False)\n",
    "    \n",
    "    padding_lengths = dataset.get_padding_lengths()\n",
    "    max_input_size  = padding_lengths['source_tokens']['num_tokens']\n",
    "    max_output_size = padding_lengths['target_tokens']['num_tokens']\n",
    "    \n",
    "    word_embedding = Embedding(num_embeddings=vocabs.get_vocab_size(\"token_ids\"), \n",
    "                           embedding_dim=EMBED_DIM)\n",
    "    text_field_embedder = BasicTextFieldEmbedder({\"tokens\": word_embedding})\n",
    "\n",
    "    attn_encoder = IntraSentenceAttentionEncoder(max_input_size)\n",
    "\n",
    "    seq2seq = SimpleSeq2Seq(vocab=vocabs, source_embedder=text_field_embedder,\n",
    "                            encoder=attn_encoder, max_decoding_steps=max_output_size,\n",
    "                            target_namespace='target_tokens', target_embedding_dim=EMBED_DIM)\n",
    "    \n",
    "    return vocabs, seq2seq"
   ]
  },
  {
   "cell_type": "code",
   "execution_count": 92,
   "metadata": {},
   "outputs": [
    {
     "name": "stderr",
     "output_type": "stream",
     "text": [
      "4it [00:00, 19.92it/s]\n",
      "100%|██████████| 4/4 [00:00<00:00, 2617.76it/s]\n",
      "100%|██████████| 4/4 [00:00<00:00, 1811.01it/s]\n"
     ]
    }
   ],
   "source": [
    "vocab, s2s_model = config(DEMO)"
   ]
  },
  {
   "cell_type": "code",
   "execution_count": 93,
   "metadata": {},
   "outputs": [
    {
     "data": {
      "text/plain": [
       "SimpleSeq2Seq (\n",
       "  (_source_embedder): BasicTextFieldEmbedder (\n",
       "    (token_embedder_tokens): Embedding (\n",
       "    )\n",
       "  )\n",
       "  (_encoder): IntraSentenceAttentionEncoder (\n",
       "    (_matrix_attention): MatrixAttention (\n",
       "      (_similarity_function): DotProductSimilarity (\n",
       "      )\n",
       "    )\n",
       "  )\n",
       "  (_target_embedder): Embedding (\n",
       "  )\n",
       "  (_decoder_cell): LSTMCell(300, 246)\n",
       "  (_output_projection_layer): Linear (246 -> 2)\n",
       ")"
      ]
     },
     "execution_count": 93,
     "metadata": {},
     "output_type": "execute_result"
    }
   ],
   "source": [
    "s2s_model"
   ]
  },
  {
   "cell_type": "code",
   "execution_count": 127,
   "metadata": {},
   "outputs": [],
   "source": [
    "seq2seq_reader = Seq2SeqDatasetReader()\n",
    "\n",
    "from allennlp.data import Vocabulary \n"
   ]
  },
  {
   "cell_type": "code",
   "execution_count": 128,
   "metadata": {},
   "outputs": [
    {
     "name": "stderr",
     "output_type": "stream",
     "text": [
      "4it [00:00, 20.76it/s]\n"
     ]
    }
   ],
   "source": [
    "dataset = seq2seq_reader.read(DEMO)"
   ]
  },
  {
   "cell_type": "code",
   "execution_count": 129,
   "metadata": {},
   "outputs": [],
   "source": [
    "instances = dataset.instances"
   ]
  },
  {
   "cell_type": "code",
   "execution_count": 132,
   "metadata": {},
   "outputs": [],
   "source": [
    "new = Dataset(instances)"
   ]
  },
  {
   "cell_type": "code",
   "execution_count": 134,
   "metadata": {},
   "outputs": [
    {
     "ename": "AttributeError",
     "evalue": "type object 'Vocabulary' has no attribute 'from_instances'",
     "output_type": "error",
     "traceback": [
      "\u001b[0;31m---------------------------------------------------------------------------\u001b[0m",
      "\u001b[0;31mAttributeError\u001b[0m                            Traceback (most recent call last)",
      "\u001b[0;32m<ipython-input-134-2ef14e858753>\u001b[0m in \u001b[0;36m<module>\u001b[0;34m()\u001b[0m\n\u001b[0;32m----> 1\u001b[0;31m \u001b[0mv\u001b[0m \u001b[0;34m=\u001b[0m \u001b[0mVocabulary\u001b[0m\u001b[0;34m.\u001b[0m\u001b[0mfrom_instances\u001b[0m\u001b[0;34m(\u001b[0m\u001b[0mnew\u001b[0m\u001b[0;34m)\u001b[0m\u001b[0;34m\u001b[0m\u001b[0m\n\u001b[0m\u001b[1;32m      2\u001b[0m \u001b[0;31m#v._token_to_index\u001b[0m\u001b[0;34m\u001b[0m\u001b[0;34m\u001b[0m\u001b[0m\n",
      "\u001b[0;31mAttributeError\u001b[0m: type object 'Vocabulary' has no attribute 'from_instances'"
     ]
    }
   ],
   "source": [
    "v = Vocabulary.from_instances(new)\n",
    "#v._token_to_index"
   ]
  },
  {
   "cell_type": "code",
   "execution_count": 103,
   "metadata": {},
   "outputs": [],
   "source": [
    "from collections import defaultdict\n",
    "namespace_token_counts = defaultdict(lambda: defaultdict(int))"
   ]
  },
  {
   "cell_type": "code",
   "execution_count": 105,
   "metadata": {},
   "outputs": [
    {
     "name": "stderr",
     "output_type": "stream",
     "text": [
      "100%|██████████| 4/4 [00:00<00:00, 1875.39it/s]\n"
     ]
    }
   ],
   "source": [
    "import tqdm\n",
    "for instance in tqdm.tqdm(instances):\n",
    "    instance.count_vocab_items(namespace_token_counts)"
   ]
  },
  {
   "cell_type": "code",
   "execution_count": 106,
   "metadata": {
    "collapsed": true
   },
   "outputs": [],
   "source": [
    "v = Vocabulary(counter=namespace_token_counts)"
   ]
  },
  {
   "cell_type": "code",
   "execution_count": 108,
   "metadata": {},
   "outputs": [
    {
     "data": {
      "text/plain": [
       "_TokenToIndexDefaultDict(None,\n",
       "                         {'tokens': {'!': 23,\n",
       "                           '.': 2,\n",
       "                           '?': 44,\n",
       "                           '@@END@@': 48,\n",
       "                           '@@PADDING@@': 0,\n",
       "                           '@@START@@': 43,\n",
       "                           '@@UNKNOWN@@': 1,\n",
       "                           'a': 17,\n",
       "                           'abnormally': 115,\n",
       "                           'about': 105,\n",
       "                           'additional': 109,\n",
       "                           'after': 160,\n",
       "                           'again': 166,\n",
       "                           'ago': 104,\n",
       "                           'all': 128,\n",
       "                           'also': 47,\n",
       "                           'am': 15,\n",
       "                           'and': 4,\n",
       "                           'anemia': 233,\n",
       "                           'antihistamines': 135,\n",
       "                           'anxiety': 125,\n",
       "                           'any': 163,\n",
       "                           'are': 24,\n",
       "                           'as': 10,\n",
       "                           'at': 179,\n",
       "                           'attending': 172,\n",
       "                           'be': 33,\n",
       "                           'because': 188,\n",
       "                           'been': 35,\n",
       "                           'best': 101,\n",
       "                           'blood': 19,\n",
       "                           'boredom': 127,\n",
       "                           'brain': 55,\n",
       "                           'but': 14,\n",
       "                           'by': 224,\n",
       "                           'caled': 182,\n",
       "                           'can': 83,\n",
       "                           'cardiac': 235,\n",
       "                           'care': 89,\n",
       "                           'cause': 80,\n",
       "                           'certain': 56,\n",
       "                           'checked': 223,\n",
       "                           'chest': 34,\n",
       "                           'conditions': 84,\n",
       "                           'confused': 40,\n",
       "                           'continues': 217,\n",
       "                           'contribute': 129,\n",
       "                           'contributory': 140,\n",
       "                           'could': 207,\n",
       "                           'ct': 66,\n",
       "                           'day': 117,\n",
       "                           'days': 192,\n",
       "                           'daytime': 118,\n",
       "                           'depression': 124,\n",
       "                           'diagnosed': 39,\n",
       "                           'diagnostic': 86,\n",
       "                           'disease': 102,\n",
       "                           'disorder': 123,\n",
       "                           'do': 71,\n",
       "                           'doctor': 225,\n",
       "                           'doctors': 59,\n",
       "                           'done': 69,\n",
       "                           'drowsiness': 29,\n",
       "                           'during': 116,\n",
       "                           'ecg': 72,\n",
       "                           'eeg': 143,\n",
       "                           'er': 216,\n",
       "                           'evaluation': 227,\n",
       "                           'even': 234,\n",
       "                           'every': 199,\n",
       "                           'everyday': 187,\n",
       "                           'examiantion': 228,\n",
       "                           'excessive': 79,\n",
       "                           'experience': 222,\n",
       "                           'experinced': 196,\n",
       "                           'fall': 152,\n",
       "                           'feel': 92,\n",
       "                           'feeling': 114,\n",
       "                           'feels': 194,\n",
       "                           'few': 184,\n",
       "                           'fine': 159,\n",
       "                           'five': 200,\n",
       "                           'follow': 170,\n",
       "                           'for': 70,\n",
       "                           'four': 191,\n",
       "                           'from': 197,\n",
       "                           'go': 215,\n",
       "                           'going': 42,\n",
       "                           'good': 77,\n",
       "                           'got': 53,\n",
       "                           'had': 153,\n",
       "                           'happening': 198,\n",
       "                           'have': 7,\n",
       "                           'having': 36,\n",
       "                           'head': 68,\n",
       "                           'hear': 203,\n",
       "                           'heart': 106,\n",
       "                           'help': 63,\n",
       "                           'hey': 145,\n",
       "                           'hi': 65,\n",
       "                           'high': 190,\n",
       "                           'history': 169,\n",
       "                           'hormone': 176,\n",
       "                           'how': 75,\n",
       "                           'however': 220,\n",
       "                           'hypercalcemia': 137,\n",
       "                           'hypernatremia': 139,\n",
       "                           'hyponatremia': 138,\n",
       "                           'hypothyroid': 158,\n",
       "                           'hypothyroidism': 85,\n",
       "                           'i': 3,\n",
       "                           'if': 28,\n",
       "                           'in': 107,\n",
       "                           'include': 142,\n",
       "                           'indeed': 218,\n",
       "                           'inflammation': 189,\n",
       "                           'is': 6,\n",
       "                           'issues': 232,\n",
       "                           'it': 25,\n",
       "                           'its': 94,\n",
       "                           'just': 148,\n",
       "                           'keep': 98,\n",
       "                           'known': 121,\n",
       "                           'levels': 97,\n",
       "                           'like': 74,\n",
       "                           'make': 174,\n",
       "                           'may': 27,\n",
       "                           'me': 64,\n",
       "                           'mean': 208,\n",
       "                           'medical': 136,\n",
       "                           'medications': 131,\n",
       "                           'medicene': 162,\n",
       "                           'mg': 185,\n",
       "                           'minutes': 202,\n",
       "                           'months': 37,\n",
       "                           'moving': 149,\n",
       "                           'mri': 54,\n",
       "                           'muscle': 60,\n",
       "                           'my': 8,\n",
       "                           'nausea': 52,\n",
       "                           'need': 214,\n",
       "                           'no': 120,\n",
       "                           'normal': 13,\n",
       "                           'not': 93,\n",
       "                           'note': 168,\n",
       "                           'now': 91,\n",
       "                           'nt': 150,\n",
       "                           'of': 9,\n",
       "                           'ok': 157,\n",
       "                           'okay': 156,\n",
       "                           'on': 22,\n",
       "                           'one': 58,\n",
       "                           'or': 210,\n",
       "                           'other': 45,\n",
       "                           'out': 230,\n",
       "                           'pain': 108,\n",
       "                           'palpitation': 221,\n",
       "                           'palpitations': 195,\n",
       "                           'past': 50,\n",
       "                           'performed': 141,\n",
       "                           'pills': 134,\n",
       "                           'please': 62,\n",
       "                           'polychondritis': 103,\n",
       "                           'possible': 231,\n",
       "                           'posted': 100,\n",
       "                           'present': 110,\n",
       "                           'problem': 209,\n",
       "                           'proper': 226,\n",
       "                           'range': 178,\n",
       "                           'rare': 181,\n",
       "                           'really': 151,\n",
       "                           'refers': 113,\n",
       "                           'regards': 90,\n",
       "                           'reply': 146,\n",
       "                           'results': 112,\n",
       "                           'right': 147,\n",
       "                           'rule': 229,\n",
       "                           's': 41,\n",
       "                           'scan': 67,\n",
       "                           'significant': 122,\n",
       "                           'since': 49,\n",
       "                           'sleep': 82,\n",
       "                           'sleepiness': 119,\n",
       "                           'sleepiness.some': 130,\n",
       "                           'sleeping': 133,\n",
       "                           'sleepy': 78,\n",
       "                           'so': 20,\n",
       "                           'sometimes': 38,\n",
       "                           'spasm': 61,\n",
       "                           'specialist': 211,\n",
       "                           'started': 193,\n",
       "                           'steroids': 186,\n",
       "                           'stops': 204,\n",
       "                           'stress': 126,\n",
       "                           'studies': 144,\n",
       "                           'such': 46,\n",
       "                           'suggest': 81,\n",
       "                           'sure': 175,\n",
       "                           'symptom': 219,\n",
       "                           'symptoms': 76,\n",
       "                           'take': 88,\n",
       "                           'taking': 161,\n",
       "                           'ten': 201,\n",
       "                           'test': 111,\n",
       "                           'tests': 12,\n",
       "                           'thank': 165,\n",
       "                           'thankfully': 155,\n",
       "                           'thanks': 31,\n",
       "                           'that': 26,\n",
       "                           'the': 5,\n",
       "                           'there': 32,\n",
       "                           'thing': 164,\n",
       "                           'this': 73,\n",
       "                           'thump': 205,\n",
       "                           'thyroid': 96,\n",
       "                           'time': 180,\n",
       "                           'to': 11,\n",
       "                           'too': 154,\n",
       "                           'tranquilizers': 132,\n",
       "                           'up': 171,\n",
       "                           'update': 167,\n",
       "                           'updated': 173,\n",
       "                           'urine': 87,\n",
       "                           'us': 99,\n",
       "                           'vacation': 212,\n",
       "                           'wandering': 213,\n",
       "                           'was': 183,\n",
       "                           'were': 30,\n",
       "                           'what': 21,\n",
       "                           'which': 57,\n",
       "                           'with': 18,\n",
       "                           'within': 177,\n",
       "                           'without': 51,\n",
       "                           'wondering': 206,\n",
       "                           'you': 16,\n",
       "                           'your': 95}})"
      ]
     },
     "execution_count": 108,
     "metadata": {},
     "output_type": "execute_result"
    }
   ],
   "source": [
    "v._token_to_index"
   ]
  },
  {
   "cell_type": "code",
   "execution_count": 110,
   "metadata": {},
   "outputs": [
    {
     "data": {
      "text/plain": [
       "{'source_tokens': <allennlp.data.fields.text_field.TextField at 0x1a215b6160>,\n",
       " 'target_tokens': <allennlp.data.fields.text_field.TextField at 0x1a216174e0>}"
      ]
     },
     "execution_count": 110,
     "metadata": {},
     "output_type": "execute_result"
    }
   ],
   "source": [
    "instances[0].fields"
   ]
  },
  {
   "cell_type": "code",
   "execution_count": null,
   "metadata": {
    "collapsed": true
   },
   "outputs": [],
   "source": []
  }
 ],
 "metadata": {
  "kernelspec": {
   "display_name": "Python 3",
   "language": "python",
   "name": "python3"
  },
  "language_info": {
   "codemirror_mode": {
    "name": "ipython",
    "version": 3
   },
   "file_extension": ".py",
   "mimetype": "text/x-python",
   "name": "python",
   "nbconvert_exporter": "python",
   "pygments_lexer": "ipython3",
   "version": "3.6.2"
  }
 },
 "nbformat": 4,
 "nbformat_minor": 2
}
