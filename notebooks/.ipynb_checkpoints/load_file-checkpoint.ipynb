{
 "cells": [
  {
   "cell_type": "code",
   "execution_count": 1,
   "metadata": {
    "collapsed": true
   },
   "outputs": [],
   "source": [
    "import pickle as pkl\n",
    "from WebQA.core.QA_Page import QA_Page\n",
    "from WebQA.pages.Medhelp import MedhelpPage\n",
    "from WebQA.pages.Healthtap import HealthtapPage\n",
    "from WebQA.core.Post import Post, Question, Answer\n",
    "from WebQA.core.User import User\n",
    "import pandas as pd\n",
    "import sys\n",
    "import os"
   ]
  },
  {
   "cell_type": "code",
   "execution_count": 2,
   "metadata": {
    "collapsed": true
   },
   "outputs": [],
   "source": [
    "HOME = os.path.expanduser(\"~\")\n",
    "DATA = HOME + \"/data_buffer/WebQA/\"\n",
    "\n",
    "import unicodedata\n",
    "import string\n",
    "import re\n",
    "\n",
    "\n",
    "def unicode_to_ascii(s):\n",
    "    return ''.join(\n",
    "        c for c in unicodedata.normalize('NFD', s)\n",
    "        if unicodedata.category(c) != 'Mn'\n",
    "    )\n",
    "\n",
    "\n",
    "# Lowercase, trim, and remove non-letter characters\n",
    "def normalize_string(s):\n",
    "    s = unicode_to_ascii(s.lower().strip())\n",
    "    s = re.sub(r\"([›.!?])\", r\" \\1\", s)\n",
    "    s = re.sub(r\"[^a-zA-Z.!?]+\", r\" \", s)\n",
    "    s = ' '.join(s.split())\n",
    "    return s"
   ]
  },
  {
   "cell_type": "code",
   "execution_count": 3,
   "metadata": {
    "collapsed": true
   },
   "outputs": [],
   "source": [
    "def turn_to_pairs(filename: str = None):\n",
    "    def question_filter(answer):\n",
    "        if answer.user and answer.user.isMedical:\n",
    "             return answer.text\n",
    "        return \"\"\n",
    "    \n",
    "    with open(DATA + filename, \"rb\") as f:\n",
    "        pages = pd.read_pickle(f)\n",
    "    questions = []\n",
    "    answers = []\n",
    "    for page in pages:\n",
    "        if page and page.question != \"\":\n",
    "            #page.print()\n",
    "            medical_answers = [answer.text for answer in page.answers]\n",
    "            if medical_answers:\n",
    "                questions.append(normalize_string(page.question.text))\n",
    "                answers.append([normalize_string(answer) \\\n",
    "                                        for answer in medical_answers])\n",
    "            else:\n",
    "                continue\n",
    "                \n",
    "    training_pairs = []\n",
    "    for i in range(len(answers)):\n",
    "        for answer in answers[i]:\n",
    "            if answer != \"\":\n",
    "                training_pairs.append(questions[i]  + \"\\t\" + answer)\n",
    "    return training_pairs"
   ]
  },
  {
   "cell_type": "code",
   "execution_count": 4,
   "metadata": {
    "collapsed": true
   },
   "outputs": [],
   "source": [
    "def create_tsv(filename: str = None, content: list = None):\n",
    "    with open(filename, \"w\") as record_file:\n",
    "        for item in content:\n",
    "            record_file.write(\"%s\\n\" % item)"
   ]
  },
  {
   "cell_type": "code",
   "execution_count": 5,
   "metadata": {
    "collapsed": true
   },
   "outputs": [],
   "source": [
    "training_pairsQA = turn_to_pairs(\"qa.pkl\")\n",
    "training_pairsHealth = turn_to_pairs(\"healthtap.pkl\")"
   ]
  },
  {
   "cell_type": "code",
   "execution_count": 6,
   "metadata": {
    "collapsed": true
   },
   "outputs": [],
   "source": [
    "create_tsv('QA_dataset.tsv', training_pairsQA)\n",
    "create_tsv('Health_dataset.tsv', training_pairsHealth)"
   ]
  },
  {
   "cell_type": "code",
   "execution_count": 151,
   "metadata": {},
   "outputs": [
    {
     "data": {
      "text/plain": [
       "1308520"
      ]
     },
     "execution_count": 151,
     "metadata": {},
     "output_type": "execute_result"
    }
   ],
   "source": [
    "len(training_pairsQA)\n",
    "#training_pairsQA[:3]"
   ]
  },
  {
   "cell_type": "code",
   "execution_count": 153,
   "metadata": {},
   "outputs": [
    {
     "data": {
      "text/plain": [
       "['i have been having drowsiness since past months sometimes with and without nausea. i have got my mri of the brain certain blood tests which were normal. one of the doctors diagnosed is as muscle spasm but i am so confused whats going on. please help me ! thanks !\\thi how are you ?are there other symptoms present ? it is good that the blood test results were normal. drowsiness refers to feeling abnormally sleepy during the day. excessive daytime sleepiness with no known cause may suggest a significant sleep disorder. and depression anxiety stress and boredom can all contribute to excessive sleepiness.some medications tranquilizers sleeping pills antihistamines and medical conditions such as hypothyroidism hypercalcemia and hyponatremia hypernatremia may also be contributory. diagnostic tests that may be performed include ct scan of the head eeg sleep studies and urine tests may also be done. take care and regards.',\n",
       " 'i have been having drowsiness since past months sometimes with and without nausea. i have got my mri of the brain certain blood tests which were normal. one of the doctors diagnosed is as muscle spasm but i am so confused whats going on. please help me ! thanks !\\they thanks for the reply. right now i just feel drowsiness as if my head is moving but i dont really fall but i am not sleepy as such. i have had ct scan of the head too but thankfully its okay and ecg is also ok and so is the urine. i am so confused sometimes as to whats going on. i have hypothyroid but its fine after taking medicene. any other thing you suggest. thank you again.',\n",
       " 'i have been having drowsiness since past months sometimes with and without nausea. i have got my mri of the brain certain blood tests which were normal. one of the doctors diagnosed is as muscle spasm but i am so confused whats going on. please help me ! thanks !\\thi thanks for the update. it is good to note that the ct scan ecg and other tests were also normal. if there is history of hypothyroidism you can have a follow up with your attending and have updated blood tests done to make sure that thyroid hormone levels are within normal range at this time. do keep us posted. best regards.']"
      ]
     },
     "execution_count": 153,
     "metadata": {},
     "output_type": "execute_result"
    }
   ],
   "source": []
  },
  {
   "cell_type": "code",
   "execution_count": 26,
   "metadata": {
    "collapsed": true
   },
   "outputs": [],
   "source": [
    "f = open(DATA + 'Health_dataset.tsv', 'r').readlines()"
   ]
  },
  {
   "cell_type": "code",
   "execution_count": 35,
   "metadata": {
    "collapsed": true
   },
   "outputs": [],
   "source": [
    "lines = [item[:item.find('dr.')] for item in f]\n",
    "\n",
    "with open(DATA + 'Health_dataset.tsv', \"w\") as record_file:\n",
    "        for item in lines:\n",
    "            record_file.write(\"%s\\n\" % item)\n",
    "\n"
   ]
  },
  {
   "cell_type": "code",
   "execution_count": 32,
   "metadata": {},
   "outputs": [
    {
     "data": {
      "text/plain": [
       "['does', 'drug', 'therapy', 'work', 'for', 'anxiety', 'disorders', '?']"
      ]
     },
     "execution_count": 32,
     "metadata": {},
     "output_type": "execute_result"
    }
   ],
   "source": []
  },
  {
   "cell_type": "code",
   "execution_count": 33,
   "metadata": {},
   "outputs": [
    {
     "data": {
      "text/plain": [
       "['in',\n",
       " 'brief',\n",
       " 'yes',\n",
       " 'both',\n",
       " 'psychotherapy',\n",
       " 'and',\n",
       " 'medications',\n",
       " 'can',\n",
       " 'help',\n",
       " 'people',\n",
       " 'with',\n",
       " 'anxiety',\n",
       " 'disorders.',\n",
       " 'some',\n",
       " 'people',\n",
       " 'benefit',\n",
       " 'from',\n",
       " 'one',\n",
       " 'or',\n",
       " 'both',\n",
       " 'of',\n",
       " 'these',\n",
       " 'types',\n",
       " 'of',\n",
       " 'treatment',\n",
       " 'more',\n",
       " 'than',\n",
       " 'the',\n",
       " 'other.',\n",
       " 'anxiety',\n",
       " 'disorders',\n",
       " 'tend',\n",
       " 'to',\n",
       " 'be',\n",
       " 'fairly',\n",
       " 'chronic',\n",
       " 'for',\n",
       " 'many',\n",
       " 'people',\n",
       " 'and',\n",
       " 'so',\n",
       " 'it',\n",
       " 'is',\n",
       " 'important',\n",
       " 'to',\n",
       " 'look',\n",
       " 'for',\n",
       " 'long',\n",
       " 'term',\n",
       " 'solutions.',\n",
       " 'in',\n",
       " 'brief',\n",
       " 'yes',\n",
       " 'both',\n",
       " 'psychotherapy',\n",
       " 'and',\n",
       " 'medications',\n",
       " 'can',\n",
       " 'help',\n",
       " 'people',\n",
       " 'with',\n",
       " 'anxiety',\n",
       " 'disorders.',\n",
       " 'some',\n",
       " 'people',\n",
       " 'benefit',\n",
       " 'from',\n",
       " 'one',\n",
       " 'or',\n",
       " 'both',\n",
       " 'of',\n",
       " 'these',\n",
       " 'types',\n",
       " 'of',\n",
       " 'treatment',\n",
       " 'more',\n",
       " 'than',\n",
       " 'the',\n",
       " 'other.',\n",
       " 'anxiety',\n",
       " 'disorders',\n",
       " 'tend',\n",
       " 'to',\n",
       " 'be',\n",
       " 'fairly',\n",
       " 'chronic',\n",
       " 'for',\n",
       " 'many',\n",
       " 'people',\n",
       " 'and',\n",
       " 'so',\n",
       " 'it',\n",
       " 'is',\n",
       " 'important',\n",
       " 'to',\n",
       " 'look',\n",
       " 'for',\n",
       " 'long',\n",
       " 'term',\n",
       " 'solutions.',\n",
       " 'would',\n",
       " 'you',\n",
       " 'like',\n",
       " 'to',\n",
       " 'video',\n",
       " 'or',\n",
       " 'text',\n",
       " 'chat',\n",
       " 'with',\n",
       " 'me',\n",
       " '?']"
      ]
     },
     "execution_count": 33,
     "metadata": {},
     "output_type": "execute_result"
    }
   ],
   "source": [
    "lines[0].split('\\t')[1].split()"
   ]
  },
  {
   "cell_type": "code",
   "execution_count": null,
   "metadata": {
    "collapsed": true
   },
   "outputs": [],
   "source": [
    "for line in lines:\n",
    "    pair = line.split('\\t')\n",
    "    question = "
   ]
  },
  {
   "cell_type": "code",
   "execution_count": null,
   "metadata": {
    "collapsed": true
   },
   "outputs": [],
   "source": []
  },
  {
   "cell_type": "code",
   "execution_count": null,
   "metadata": {
    "collapsed": true
   },
   "outputs": [],
   "source": []
  },
  {
   "cell_type": "code",
   "execution_count": null,
   "metadata": {
    "collapsed": true
   },
   "outputs": [],
   "source": []
  },
  {
   "cell_type": "code",
   "execution_count": null,
   "metadata": {
    "collapsed": true
   },
   "outputs": [],
   "source": []
  },
  {
   "cell_type": "code",
   "execution_count": null,
   "metadata": {
    "collapsed": true
   },
   "outputs": [],
   "source": []
  },
  {
   "cell_type": "code",
   "execution_count": null,
   "metadata": {
    "collapsed": true
   },
   "outputs": [],
   "source": []
  }
 ],
 "metadata": {
  "kernelspec": {
   "display_name": "Python 3",
   "language": "python",
   "name": "python3"
  },
  "language_info": {
   "codemirror_mode": {
    "name": "ipython",
    "version": 3
   },
   "file_extension": ".py",
   "mimetype": "text/x-python",
   "name": "python",
   "nbconvert_exporter": "python",
   "pygments_lexer": "ipython3",
   "version": "3.6.2"
  }
 },
 "nbformat": 4,
 "nbformat_minor": 2
}
