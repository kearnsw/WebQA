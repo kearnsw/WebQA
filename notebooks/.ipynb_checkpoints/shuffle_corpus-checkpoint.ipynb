{
 "cells": [
  {
   "cell_type": "code",
   "execution_count": 40,
   "metadata": {
    "collapsed": true
   },
   "outputs": [],
   "source": [
    "import os\n",
    "import random\n",
    "import math"
   ]
  },
  {
   "cell_type": "code",
   "execution_count": 41,
   "metadata": {
    "collapsed": true
   },
   "outputs": [],
   "source": [
    "HOME = os.path.expanduser(\"~\")\n",
    "DATA = HOME + \"/data_buffer/WebQA/\"\n",
    "QA = DATA + \"QA/\"\n",
    "HEALTH = DATA + \"Health/\"\n",
    "TRAIN = HOME + \"/hyak_training_package/WebQA/corpus/corpus_train.tsv\""
   ]
  },
  {
   "cell_type": "code",
   "execution_count": 42,
   "metadata": {
    "collapsed": true
   },
   "outputs": [],
   "source": [
    "names = ['Health', 'QA']\n",
    "demo = ['demo']\n"
   ]
  },
  {
   "cell_type": "code",
   "execution_count": 43,
   "metadata": {
    "collapsed": true
   },
   "outputs": [],
   "source": [
    "def divide_data(names):\n",
    "    lines = []\n",
    "    for name in names:\n",
    "        lines += open(DATA + name + \"_dataset.tsv\").readlines()\n",
    "    \n",
    "    for i in range(len(lines)):\n",
    "        if len(lines[i].split('\\t')) != 2:\n",
    "            lines[i] = ''\n",
    "    \n",
    "    newLines = []\n",
    "    \n",
    "    for line in lines:\n",
    "        if line != '':\n",
    "            newLines.append(line)\n",
    "    del lines\n",
    "    \n",
    "    random.shuffle(newLines)\n",
    "\n",
    "    #ratio: train : dev : test = 5 : 2 : 1\n",
    "    train_index = int(5 * len(newLines) / 8)\n",
    "    dev_index = train_index + int(2 * len(newLines) / 8)\n",
    "\n",
    "    train_set = newLines[:train_index]\n",
    "    dev_set = newLines[train_index:dev_index]\n",
    "    test_set = newLines[dev_index:]\n",
    "    \n",
    "    #divide the data into n sub_train/test/dev set\n",
    "    \n",
    "    n = 3\n",
    "    start = 0\n",
    "    end = 0\n",
    "    \n",
    "    train\n",
    "    \n",
    "    for i in range(1, n + 1):\n",
    "        end = start\n",
    "    \n",
    "    open(DATA + \"corpus_train.tsv\", 'w').writelines(train_set)\n",
    "    open(DATA + \"corpus_dev.tsv\", 'w').writelines(dev_set)\n",
    "    open(DATA + \"corpus_test.tsv\", 'w').writelines(test_set)\n",
    "        \n",
    "\n",
    "        "
   ]
  },
  {
   "cell_type": "code",
   "execution_count": 44,
   "metadata": {
    "collapsed": true
   },
   "outputs": [],
   "source": [
    "divide_data(names)"
   ]
  },
  {
   "cell_type": "code",
   "execution_count": null,
   "metadata": {
    "collapsed": true
   },
   "outputs": [],
   "source": []
  },
  {
   "cell_type": "code",
   "execution_count": null,
   "metadata": {
    "collapsed": true
   },
   "outputs": [],
   "source": []
  },
  {
   "cell_type": "code",
   "execution_count": null,
   "metadata": {
    "collapsed": true
   },
   "outputs": [],
   "source": []
  },
  {
   "cell_type": "code",
   "execution_count": null,
   "metadata": {
    "collapsed": true
   },
   "outputs": [],
   "source": []
  },
  {
   "cell_type": "code",
   "execution_count": null,
   "metadata": {
    "collapsed": true
   },
   "outputs": [],
   "source": []
  },
  {
   "cell_type": "code",
   "execution_count": 92,
   "metadata": {
    "collapsed": true
   },
   "outputs": [],
   "source": [
    "a = open(TRAIN).readlines()"
   ]
  },
  {
   "cell_type": "code",
   "execution_count": 91,
   "metadata": {
    "collapsed": true
   },
   "outputs": [],
   "source": []
  },
  {
   "cell_type": "code",
   "execution_count": 101,
   "metadata": {
    "collapsed": true
   },
   "outputs": [],
   "source": [
    "input_len_count = 0\n",
    "output_len_count = 0\n",
    "count = 0\n",
    "\n",
    "for line in a:\n",
    "    line = line[:-1]\n",
    "    pair = [item.split() for item in line.split(\"\\t\")]\n",
    "    #print(len(pair))\n",
    "    if len(pair) == 2:\n",
    "        count += 1\n",
    "        input_len_count += len(pair[0])\n",
    "        output_len_count += len(pair[1])"
   ]
  },
  {
   "cell_type": "code",
   "execution_count": 104,
   "metadata": {
    "collapsed": true
   },
   "outputs": [],
   "source": [
    "input_ave = input_len_count/count"
   ]
  },
  {
   "cell_type": "code",
   "execution_count": 105,
   "metadata": {
    "collapsed": true
   },
   "outputs": [],
   "source": [
    "output_ave = output_len_count/count"
   ]
  },
  {
   "cell_type": "code",
   "execution_count": null,
   "metadata": {
    "collapsed": true
   },
   "outputs": [],
   "source": [
    "output_var = 0\n",
    "input_var = 0\n",
    "\n",
    "for line in a:\n",
    "    line = line[:-1]\n",
    "    pair = [item.split() for item in line.split(\"\\t\")]\n",
    "    #print(len(pair))\n",
    "    if len(pair) == 2:\n",
    "        input_var += (input_ave - len(pair[0]))"
   ]
  },
  {
   "cell_type": "code",
   "execution_count": null,
   "metadata": {
    "collapsed": true
   },
   "outputs": [],
   "source": []
  },
  {
   "cell_type": "code",
   "execution_count": 89,
   "metadata": {},
   "outputs": [
    {
     "data": {
      "text/plain": [
       "2163"
      ]
     },
     "execution_count": 89,
     "metadata": {},
     "output_type": "execute_result"
    }
   ],
   "source": [
    "max_inputa"
   ]
  },
  {
   "cell_type": "code",
   "execution_count": 90,
   "metadata": {},
   "outputs": [
    {
     "data": {
      "text/plain": [
       "5209"
      ]
     },
     "execution_count": 90,
     "metadata": {},
     "output_type": "execute_result"
    }
   ],
   "source": [
    "max_output"
   ]
  },
  {
   "cell_type": "code",
   "execution_count": 97,
   "metadata": {
    "collapsed": true
   },
   "outputs": [],
   "source": [
    "hehe = [item.split() for item in a[1][:-1].split('\\t')]"
   ]
  },
  {
   "cell_type": "code",
   "execution_count": 99,
   "metadata": {},
   "outputs": [
    {
     "data": {
      "text/plain": [
       "13"
      ]
     },
     "execution_count": 99,
     "metadata": {},
     "output_type": "execute_result"
    }
   ],
   "source": [
    "len(hehe[0])"
   ]
  },
  {
   "cell_type": "code",
   "execution_count": null,
   "metadata": {
    "collapsed": true
   },
   "outputs": [],
   "source": [
    "### clean the corpus "
   ]
  },
  {
   "cell_type": "code",
   "execution_count": null,
   "metadata": {
    "collapsed": true
   },
   "outputs": [],
   "source": []
  },
  {
   "cell_type": "code",
   "execution_count": null,
   "metadata": {
    "collapsed": true
   },
   "outputs": [],
   "source": []
  }
 ],
 "metadata": {
  "kernelspec": {
   "display_name": "Python 3",
   "language": "python",
   "name": "python3"
  },
  "language_info": {
   "codemirror_mode": {
    "name": "ipython",
    "version": 3
   },
   "file_extension": ".py",
   "mimetype": "text/x-python",
   "name": "python",
   "nbconvert_exporter": "python",
   "pygments_lexer": "ipython3",
   "version": "3.6.2"
  }
 },
 "nbformat": 4,
 "nbformat_minor": 2
}
