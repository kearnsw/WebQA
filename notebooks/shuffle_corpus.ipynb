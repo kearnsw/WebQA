{
 "cells": [
  {
   "cell_type": "code",
   "execution_count": 82,
   "metadata": {
    "collapsed": true
   },
   "outputs": [],
   "source": [
    "import os\n",
    "import random\n",
    "import math"
   ]
  },
  {
   "cell_type": "code",
   "execution_count": 83,
   "metadata": {
    "collapsed": true
   },
   "outputs": [],
   "source": [
    "HOME = os.path.expanduser(\"~\")\n",
    "DATA = HOME + \"/data_buffer/WebQA/\"\n",
    "QA = DATA + \"QA/\"\n",
    "HEALTH = DATA + \"Health/\"\n",
    "TRAIN = HOME + \"/hyak_training_package/WebQA/corpus/corpus_train.tsv\""
   ]
  },
  {
   "cell_type": "code",
   "execution_count": 84,
   "metadata": {
    "collapsed": true
   },
   "outputs": [],
   "source": [
    "names = ['Health', 'QA']\n",
    "demo = ['demo']"
   ]
  },
  {
   "cell_type": "code",
   "execution_count": 85,
   "metadata": {
    "collapsed": true
   },
   "outputs": [],
   "source": [
    "def divide_data(names):\n",
    "    lines = []\n",
    "    for name in names:\n",
    "        lines += open(DATA + name + \"_dataset.tsv\").readlines()\n",
    "        \n",
    "    random.shuffle(lines)\n",
    "\n",
    "    #ratio: train : dev : test = 3 : 1 : 1\n",
    "    train_index = int(3 * len(lines) / 5)\n",
    "    dev_index = train_index + int(len(lines) / 5)\n",
    "\n",
    "    train_set = lines[:train_index]\n",
    "    dev_set = lines[train_index:dev_index]\n",
    "    test_set = lines[dev_index:]\n",
    "\n",
    "    assert math.fabs(dev_index + int(len(lines) / 5) - len(lines)) < 2\n",
    "\n",
    "\n",
    "    open(DATA + \"corpus_train.tsv\", 'w').writelines(train_set)\n",
    "    open(DATA + \"corpus_dev.tsv\", 'w').writelines(dev_set)\n",
    "    open(DATA + \"corpus_test.tsv\", 'w').writelines(test_set)\n",
    "        \n",
    "\n",
    "        "
   ]
  },
  {
   "cell_type": "code",
   "execution_count": 86,
   "metadata": {
    "collapsed": true
   },
   "outputs": [],
   "source": [
    "divide_data(names)"
   ]
  },
  {
   "cell_type": "code",
   "execution_count": 92,
   "metadata": {
    "collapsed": true
   },
   "outputs": [],
   "source": [
    "a = open(TRAIN).readlines()"
   ]
  },
  {
   "cell_type": "code",
   "execution_count": 91,
   "metadata": {},
   "outputs": [],
   "source": []
  },
  {
   "cell_type": "code",
   "execution_count": 101,
   "metadata": {},
   "outputs": [],
   "source": [
    "input_len_count = 0\n",
    "output_len_count = 0\n",
    "count = 0\n",
    "\n",
    "for line in a:\n",
    "    line = line[:-1]\n",
    "    pair = [item.split() for item in line.split(\"\\t\")]\n",
    "    #print(len(pair))\n",
    "    if len(pair) == 2:\n",
    "        count += 1\n",
    "        input_len_count += len(pair[0])\n",
    "        output_len_count += len(pair[1])"
   ]
  },
  {
   "cell_type": "code",
   "execution_count": 104,
   "metadata": {},
   "outputs": [],
   "source": [
    "input_ave = input_len_count/count"
   ]
  },
  {
   "cell_type": "code",
   "execution_count": 105,
   "metadata": {},
   "outputs": [],
   "source": [
    "output_ave = output_len_count/count"
   ]
  },
  {
   "cell_type": "code",
   "execution_count": null,
   "metadata": {
    "collapsed": true
   },
   "outputs": [],
   "source": [
    "output_var = 0\n",
    "input_var = 0\n",
    "\n",
    "for line in a:\n",
    "    line = line[:-1]\n",
    "    pair = [item.split() for item in line.split(\"\\t\")]\n",
    "    #print(len(pair))\n",
    "    if len(pair) == 2:\n",
    "        input_var += (input_ave - len(pair[0]))"
   ]
  },
  {
   "cell_type": "code",
   "execution_count": null,
   "metadata": {
    "collapsed": true
   },
   "outputs": [],
   "source": []
  },
  {
   "cell_type": "code",
   "execution_count": 89,
   "metadata": {},
   "outputs": [
    {
     "data": {
      "text/plain": [
       "2163"
      ]
     },
     "execution_count": 89,
     "metadata": {},
     "output_type": "execute_result"
    }
   ],
   "source": [
    "max_inputa"
   ]
  },
  {
   "cell_type": "code",
   "execution_count": 90,
   "metadata": {},
   "outputs": [
    {
     "data": {
      "text/plain": [
       "5209"
      ]
     },
     "execution_count": 90,
     "metadata": {},
     "output_type": "execute_result"
    }
   ],
   "source": [
    "max_output"
   ]
  },
  {
   "cell_type": "code",
   "execution_count": 97,
   "metadata": {},
   "outputs": [],
   "source": [
    "hehe = [item.split() for item in a[1][:-1].split('\\t')]"
   ]
  },
  {
   "cell_type": "code",
   "execution_count": 99,
   "metadata": {},
   "outputs": [
    {
     "data": {
      "text/plain": [
       "13"
      ]
     },
     "execution_count": 99,
     "metadata": {},
     "output_type": "execute_result"
    }
   ],
   "source": [
    "len(hehe[0])"
   ]
  },
  {
   "cell_type": "code",
   "execution_count": null,
   "metadata": {
    "collapsed": true
   },
   "outputs": [],
   "source": []
  },
  {
   "cell_type": "code",
   "execution_count": null,
   "metadata": {
    "collapsed": true
   },
   "outputs": [],
   "source": []
  },
  {
   "cell_type": "code",
   "execution_count": null,
   "metadata": {
    "collapsed": true
   },
   "outputs": [],
   "source": []
  }
 ],
 "metadata": {
  "kernelspec": {
   "display_name": "Python 3",
   "language": "python",
   "name": "python3"
  },
  "language_info": {
   "codemirror_mode": {
    "name": "ipython",
    "version": 3
   },
   "file_extension": ".py",
   "mimetype": "text/x-python",
   "name": "python",
   "nbconvert_exporter": "python",
   "pygments_lexer": "ipython3",
   "version": "3.6.2"
  }
 },
 "nbformat": 4,
 "nbformat_minor": 2
}
